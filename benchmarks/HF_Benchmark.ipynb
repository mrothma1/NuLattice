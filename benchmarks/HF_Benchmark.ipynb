{
 "cells": [
  {
   "cell_type": "code",
   "execution_count": 1,
   "id": "da81edb1",
   "metadata": {},
   "outputs": [],
   "source": [
    "import sys, pathlib, os\n",
    "sys.path.append(str(pathlib.Path(os.path.abspath(\"\"))))\n",
    "sys.path.append(str(pathlib.Path(os.path.abspath(\"\")) / \"..\"))\n",
    "import numpy as np\n",
    "import NuLattice.HF.hartree_fock as hf\n",
    "this_directory = pathlib.Path(os.path.abspath(\"\"))"
   ]
  },
  {
   "cell_type": "code",
   "execution_count": 2,
   "id": "8a694765",
   "metadata": {},
   "outputs": [
    {
     "name": "stdout",
     "output_type": "stream",
     "text": [
      "number of s.p. states: 40\n"
     ]
    }
   ],
   "source": [
    "## HF check\n",
    "\n",
    "E_HF_check = -20.3588628  #energy to compare with\n",
    "\n",
    "file1=this_directory / \"HF_data/ham_e2_1B.dat\"\n",
    "file2=this_directory / \"HF_data/ham_e2_2B.dat\"\n",
    "\n",
    "data1=np.loadtxt(file1)\n",
    "data2=np.loadtxt(file2)\n",
    "\n",
    "nstat = 1 + round(max(data1[:,0]))\n",
    "print(\"number of s.p. states:\", nstat)\n",
    "           \n",
    "# make list of 1-body marix elements \n",
    "h1b = []\n",
    "for line in data1:\n",
    "    [p, q, val] = line\n",
    "    h1b.append([round(p), round(q), val])\n",
    "\n",
    "# make list of 2-body marix elements \n",
    "h2b = []\n",
    "for line in data2:\n",
    "    [p, q, r, s, val] = line\n",
    "    if p < q and r < s:\n",
    "        h2b.append([round(p), round(q), round(r), round(s), val])"
   ]
  },
  {
   "cell_type": "code",
   "execution_count": 3,
   "id": "4586b1d8",
   "metadata": {},
   "outputs": [
    {
     "name": "stdout",
     "output_type": "stream",
     "text": [
      "0 E= -15.137989997870003 , Delta E= 0.0 , Delta rho = 1.2125831512574994\n",
      "1 E= -18.043682783719913 , Delta E= 2.9056927858499098 , Delta rho = 0.8402743589927273\n",
      "2 E= -19.557519840767796 , Delta E= 1.5138370570478834 , Delta rho = 0.4797265164211837\n",
      "3 E= -20.120768062164732 , Delta E= 0.5632482213969361 , Delta rho = 0.24455170297491735\n",
      "4 E= -20.2945584487887 , Delta E= 0.17379038662396695 , Delta rho = 0.11737963574242771\n",
      "5 E= -20.342538813830057 , Delta E= 0.04798036504135794 , Delta rho = 0.05458597320089298\n",
      "6 E= -20.354889769642902 , Delta E= 0.012350955812845399 , Delta rho = 0.024967501565469577\n",
      "7 E= -20.357924317736014 , Delta E= 0.0030345480931117663 , Delta rho = 0.01132202631938286\n",
      "8 E= -20.35864595261914 , Delta E= 0.0007216348831242669 , Delta rho = 0.005111442751305378\n",
      "9 E= -20.35881351983256 , Delta E= 0.00016756721342048309 , Delta rho = 0.002302396279906135\n",
      "10 E= -20.35885173362023 , Delta E= 3.821378767199235e-05 , Delta rho = 0.0010359098149264338\n",
      "11 E= -20.35886032633776 , Delta E= 8.592717527733384e-06 , Delta rho = 0.00046581927689120335\n",
      "12 E= -20.358862236809713 , Delta E= 1.9104719548579396e-06 , Delta rho = 0.00020940711558645067\n",
      "13 E= -20.358862657675274 , Delta E= 4.208655610682399e-07 , Delta rho = 9.412520926172448e-05\n",
      "14 E= -20.35886274967998 , Delta E= 9.20047042995975e-08 , Delta rho = 4.230498957989241e-05\n",
      "15 E= -20.358862769662874 , Delta E= 1.9982895338443996e-08 , Delta rho = 1.901355331632937e-05\n",
      "16 E= -20.358862773978913 , Delta E= 4.31603908168654e-09 , Delta rho = 8.545319117132747e-06\n",
      "17 E= -20.35886277490668 , Delta E= 9.277663082229992e-10 , Delta rho = 3.84052047436916e-06\n",
      "18 E= -20.358862775105287 , Delta E= 1.986073527859844e-10 , Delta rho = 1.7260380407392192e-06\n",
      "19 E= -20.358862775147543 , Delta E= 4.225597649565316e-11 , Delta rho = 7.757288089638099e-07\n",
      "20 E= -20.358862775156584 , Delta E= 9.041656312547275e-12 , Delta rho = 3.4863352435805707e-07\n",
      "21 E= -20.35886277515846 , Delta E= 1.8758328224066645e-12 , Delta rho = 1.566852830783503e-07\n",
      "22 E= -20.35886277515892 , Delta E= 4.583000645652646e-13 , Delta rho = 7.041857663194205e-08\n",
      "23 E= -20.35886277515896 , Delta E= 4.263256414560601e-14 , Delta rho = 3.1647996434443786e-08\n",
      "24 E= -20.35886277515908 , Delta E= 1.1723955140041653e-13 , Delta rho = 1.4223471141584924e-08\n",
      "25 E= -20.358862775158997 , Delta E= 8.171241461241152e-14 , Delta rho = 6.392414921845693e-09\n",
      "HF energy (MeV) =  -20.358862775158997\n",
      "vs exact value  =  -20.3588628\n"
     ]
    }
   ],
   "source": [
    "# initialize density matrix\n",
    "dens = np.zeros((nstat,nstat))\n",
    "dens[0,0]=1.0\n",
    "dens[1,1]=1.0\n",
    "dens[2,2]=1.0\n",
    "dens[3,3]=1.0\n",
    "\n",
    "\n",
    "ndigit=7\n",
    "\n",
    "\n",
    "# HF computation\n",
    "eps=1.e-8\n",
    "mix = 0.8\n",
    "max_iter=100\n",
    "verbose = True\n",
    "h3b=[] #we have no 3-body force\n",
    "erg, trafo, conv = hf.solve_HF(h1b, h2b, h3b, dens,\n",
    "                               mix=mix, eps=eps, max_iter=max_iter, verbose=verbose)\n",
    "\n",
    "if conv:\n",
    "    print(\"HF energy (MeV) = \", erg)\n",
    "    print(\"vs exact value  = \", E_HF_check)\n",
    "else:\n",
    "    print(\"HF did not converge\")\n",
    "    \n",
    "assert np.abs(E_HF_check - round(erg,ndigit)) < 10.0**(-ndigit), \"energies do not agree\" "
   ]
  },
  {
   "cell_type": "code",
   "execution_count": null,
   "id": "abc4372d",
   "metadata": {},
   "outputs": [],
   "source": []
  }
 ],
 "metadata": {
  "kernelspec": {
   "display_name": "Python 3 (ipykernel)",
   "language": "python",
   "name": "python3"
  },
  "language_info": {
   "codemirror_mode": {
    "name": "ipython",
    "version": 3
   },
   "file_extension": ".py",
   "mimetype": "text/x-python",
   "name": "python",
   "nbconvert_exporter": "python",
   "pygments_lexer": "ipython3",
   "version": "3.13.5"
  }
 },
 "nbformat": 4,
 "nbformat_minor": 5
}
