{
 "cells": [
  {
   "cell_type": "code",
   "execution_count": 1,
   "id": "d92aaad8",
   "metadata": {},
   "outputs": [],
   "source": [
    "import sys, pathlib, os\n",
    "sys.path.append(str(pathlib.Path(os.path.abspath(\"\")) / \"..\"))\n",
    "import numpy as np\n",
    "import NuLattice.lattice as lat\n",
    "import NuLattice.references as ref\n",
    "import NuLattice.CCM.coupled_cluster as ccm"
   ]
  },
  {
   "cell_type": "code",
   "execution_count": 2,
   "id": "2d55d93d",
   "metadata": {},
   "outputs": [
    {
     "name": "stdout",
     "output_type": "stream",
     "text": [
      "number of single-particle states = 256\n",
      "number of lattice sites = 64\n"
     ]
    }
   ],
   "source": [
    "# Initialize lattice\n",
    "thisL = 4   #L*L*L lattice\n",
    "a_lat = 2.0 # lattice spacing in fm\n",
    "phys_unit = lat.phys_unit(a_lat)\n",
    "\n",
    "my_basis = lat.get_sp_basis(thisL)\n",
    "nstat =  len(my_basis)\n",
    "print(\"number of single-particle states =\", nstat)\n",
    "lattice = lat.get_lattice(thisL)\n",
    "nsite = len(lattice)\n",
    "print(\"number of lattice sites =\", nsite)"
   ]
  },
  {
   "cell_type": "code",
   "execution_count": 3,
   "id": "829380c2",
   "metadata": {},
   "outputs": [
    {
     "name": "stdout",
     "output_type": "stream",
     "text": [
      "number of matrix elements from kinetic energy 1792\n",
      "number of matrix elements from two-body contacts 512\n",
      "number of matrix elements from three-body contacts 256\n"
     ]
    }
   ],
   "source": [
    "# Compute operators for kinetic energy, two-body contacts, and three-body contact\n",
    "\n",
    "vT1=-8.0  #S-wave isospin-triplet contact\n",
    "vS1=-8.0  #S-wave spin-triplet contact\n",
    "cE = 5.5  #three-body contact\n",
    "\n",
    "\n",
    "myTkin=lat.Tkin(lattice, thisL)\n",
    "print(\"number of matrix elements from kinetic energy\", len(myTkin))\n",
    "\n",
    "mycontact=lat.contacts(vT1, vS1, lattice, thisL)\n",
    "print(\"number of matrix elements from two-body contacts\", len(mycontact))\n",
    "\n",
    "my3body=lat.NNNcontact(cE, lattice, thisL)\n",
    "print(\"number of matrix elements from three-body contacts\", len(my3body))"
   ]
  },
  {
   "cell_type": "code",
   "execution_count": 4,
   "id": "8fb7aefc",
   "metadata": {},
   "outputs": [
    {
     "name": "stdout",
     "output_type": "stream",
     "text": [
      "energy of reference: -41.47103264313923\n",
      "Step 0: -9.6\n",
      "Step 1: -9.195597181625239 difference = 0.04397787445309631\n",
      "Step 2: -9.305347477800229 difference = 0.011794325406635447\n",
      "Step 3: -9.492656874239668 difference = 0.019732030654952062\n",
      "Step 4: -9.659886351535555 difference = 0.01731174376283464\n",
      "Step 5: -9.792027535615683 difference = 0.013494772517693841\n",
      "Step 6: -9.89332876531433 difference = 0.010239347352309337\n",
      "Step 7: -9.9709364165197 difference = 0.007783386430665803\n",
      "Step 8: -10.031027060844602 difference = 0.005990477740755099\n",
      "Step 9: -10.0782553078891 difference = 0.004686153069324194\n",
      "Step 10: -10.115981532118836 difference = 0.0037293686341709187\n",
      "Step 11: -10.342805026911908 difference = 0.021930558896051763\n",
      "Step 12: -10.343359538309215 difference = 5.361037632444334e-05\n",
      "Step 13: -10.343636141751391 difference = 2.6741412631408765e-05\n",
      "Step 14: -10.343762507118866 difference = 1.2216576645859939e-05\n",
      "Step 15: -10.343819175970738 difference = 5.478523058874886e-06\n",
      "Step 16: -10.343850898134825 difference = 3.066765404784114e-06\n",
      "Step 17: -10.343879741232705 difference = 2.7884216175578036e-06\n",
      "Step 18: -10.343915006797854 difference = 3.4093053863854982e-06\n",
      "Step 19: -10.34395948335395 difference = 4.29976124406846e-06\n",
      "Step 20: -10.344012966666602 difference = 5.170460712286966e-06\n",
      "Step 21: -10.346137597928688 difference = 0.0002053550169786791\n",
      "Step 22: -10.346151783347327 difference = 1.3710816287924442e-06\n",
      "Step 23: -10.346163044297143 difference = 1.0884179736082934e-06\n",
      "Step 24: -10.346171811016212 difference = 8.473394053308316e-07\n",
      "Step 25: -10.346178629611375 difference = 6.590447938678656e-07\n",
      "Step 26: -10.346183971165114 difference = 5.162825013217674e-07\n",
      "Step 27: -10.34618819945915 difference = 4.086813378403055e-07\n",
      "Step 28: -10.34619158483327 difference = 3.272096880982888e-07\n",
      "Step 29: -10.346194326306307 difference = 2.649740522626854e-07\n",
      "Step 30: -10.346196570789568 difference = 2.1693800666030742e-07\n",
      "Step 31: -10.346210259921722 difference = 1.3231059306773286e-06\n",
      "Step 32: -10.34621020628342 difference = 5.184343022120887e-09\n",
      "Energy found in 32 iterations\n",
      "The ground state energy on a L=4 size lattice is -95.10453529283485 MeV\n"
     ]
    }
   ],
   "source": [
    "# reference state\n",
    "ref_state = ref.ref_16O_gs\n",
    "\n",
    "#Choose whether or not to have v_pppp and v_ppph sparse or not\n",
    "sparse = True\n",
    "# make normal-ordered Hamiltonian\n",
    "refEn, fock_mats, two_body_int = ccm.get_norm_ordered_ham(\n",
    "    thisL, ref_state, myTkin, mycontact, my3body, sparse=sparse, NO2B=True)\n",
    "\n",
    "\n",
    "print(\"energy of reference:\", refEn*phys_unit)\n",
    "#adding a delta to shift the first iteration, avoiding divide by 0 errors\n",
    "delta = 0\n",
    "\n",
    "#Whether or not to print out each iteration of the coupled cluster calculation\n",
    "verbose = True\n",
    "\n",
    "#solving the coupled cluster equations until we get to a relative error of 1e-8\n",
    "corrEn, t1, t2 = ccm.ccsd_solver(fock_mats, two_body_int, eps = 1.e-8, maxSteps = 100, \n",
    "                                 max_diis = 10, delta = delta, mixing = 0.5,\n",
    "                                 sparse=sparse, verbose=verbose, ccs=False)\n",
    "\n",
    "#converting the energy from lattice units to MeV\n",
    "gsEn = (corrEn + refEn) * phys_unit\n",
    "\n",
    "print(f'The ground state energy on a L={thisL} size lattice is {gsEn} MeV')\n"
   ]
  },
  {
   "cell_type": "code",
   "execution_count": null,
   "id": "588c1dda",
   "metadata": {},
   "outputs": [],
   "source": []
  }
 ],
 "metadata": {
  "kernelspec": {
   "display_name": "Python 3",
   "language": "python",
   "name": "python3"
  },
  "language_info": {
   "codemirror_mode": {
    "name": "ipython",
    "version": 3
   },
   "file_extension": ".py",
   "mimetype": "text/x-python",
   "name": "python",
   "nbconvert_exporter": "python",
   "pygments_lexer": "ipython3",
   "version": "3.9.15"
  }
 },
 "nbformat": 4,
 "nbformat_minor": 5
}
