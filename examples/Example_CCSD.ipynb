{
 "cells": [
  {
   "cell_type": "code",
   "execution_count": 1,
   "id": "bce40376-5ad5-40a5-82bc-10fbe2277996",
   "metadata": {},
   "outputs": [],
   "source": [
    "import sys, pathlib, os\n",
    "sys.path.append(str(pathlib.Path(os.path.abspath(\"\")) / \"..\"))\n",
    "import NuLattice.lattice as lat\n",
    "import NuLattice.references as ref\n",
    "import NuLattice.CCM.coupled_cluster as ccm"
   ]
  },
  {
   "cell_type": "code",
   "execution_count": 2,
   "id": "a7886d56-eeac-44b4-a1c4-080b348df43e",
   "metadata": {},
   "outputs": [],
   "source": [
    "#Defining the lattice, in our case a 2x2x2 lattice with lattice spacing of 2.5 fm\n",
    "thisL = 2\n",
    "a_lat  = 2.5"
   ]
  },
  {
   "cell_type": "code",
   "execution_count": 3,
   "id": "58834267-0ad0-4d50-8be3-fb4f7a95d1c2",
   "metadata": {},
   "outputs": [],
   "source": [
    "#two-body contacts\n",
    "vT1 = -9.0\n",
    "vS1 = -9.0\n",
    "#three-body contact\n",
    "w3  = 6.0 "
   ]
  },
  {
   "cell_type": "code",
   "execution_count": 4,
   "id": "1641f64c-0b76-4f8b-8a88-fa735abc60ed",
   "metadata": {},
   "outputs": [],
   "source": [
    "# reference state\n",
    "ref_state = ref.ref_16O_gs"
   ]
  },
  {
   "cell_type": "code",
   "execution_count": 5,
   "id": "e4dc03e0-c1aa-4adb-8dd1-745f99861c08",
   "metadata": {},
   "outputs": [],
   "source": [
    "#Choose whether or not to have v_pppp and v_ppph sparse or not\n",
    "sparse = True\n",
    "# make normal-ordered Hamiltonian\n",
    "refEn, fock_mats, two_body_int = ccm.get_norm_ord_int(\n",
    "    thisL, ref_state, vT1, vS1, w3, sparse=sparse)"
   ]
  },
  {
   "cell_type": "code",
   "execution_count": 6,
   "id": "aa3c39a4-76a0-4fb5-9c2d-d70ab6ff3b12",
   "metadata": {},
   "outputs": [
    {
     "name": "stdout",
     "output_type": "stream",
     "text": [
      "Step 0: -10.666666666666666\n",
      "Step 1: -9.94756554307116 difference = 0.07228915662650602\n",
      "Step 2: -10.328304528521095 difference = 0.03686364827823797\n",
      "Step 3: -10.751350935714342 difference = 0.03934820932948547\n",
      "Step 4: -11.141761554766514 difference = 0.035040295659993934\n",
      "Step 5: -11.48999819117842 difference = 0.03030780602552827\n",
      "Step 6: -11.798070397039751 difference = 0.02611208405220476\n",
      "Step 7: -12.070767170974744 difference = 0.022591503097724935\n",
      "Step 8: -12.313116347521046 difference = 0.019682196586658034\n",
      "Step 9: -12.529582434261616 difference = 0.017276400700206366\n",
      "Step 10: -12.723891463518369 difference = 0.015271195122488297\n",
      "Step 11: -14.688863291116096 difference = 0.1337728991450382\n",
      "Step 12: -14.693227750200503 difference = 0.0002970388235047394\n",
      "Step 13: -14.696692474425728 difference = 0.00023574856936374707\n",
      "Step 14: -14.69952650975816 difference = 0.00019279772927044577\n",
      "Step 15: -14.701828358099807 difference = 0.00015656884882475449\n",
      "Step 16: -14.703675808748045 difference = 0.00012564549655938982\n",
      "Step 17: -14.705150218369994 difference = 0.0001002648459929988\n",
      "Step 18: -14.706329509469338 difference = 8.018935646619955e-05\n",
      "Step 19: -14.707280686907444 difference = 6.467391616129521e-05\n",
      "Step 20: -14.70805718524174 difference = 5.279407908991226e-05\n",
      "Step 21: -14.712848712391775 difference = 0.000325669572473691\n",
      "Step 22: -14.712857899611626 difference = 6.24434757226997e-07\n",
      "Step 23: -14.712867082060782 difference = 6.241101143225387e-07\n",
      "Step 24: -14.71287512179625 difference = 5.464421740167268e-07\n",
      "Step 25: -14.712882025200978 difference = 4.692081888538477e-07\n",
      "Step 26: -14.712888028579806 difference = 4.08035378034635e-07\n",
      "Step 27: -14.712893361207978 difference = 3.6244592011982715e-07\n",
      "Step 28: -14.712898198483614 difference = 3.2877789071821706e-07\n",
      "Step 29: -14.712902662743396 difference = 3.0342481587300874e-07\n",
      "Step 30: -14.712906834506496 difference = 2.8354445163197134e-07\n",
      "Step 31: -14.712966803485454 difference = 4.075927021296825e-06\n",
      "Step 32: -14.71296684150129 difference = 2.5838320864974226e-09\n",
      "Energy found in 32 iterations\n"
     ]
    }
   ],
   "source": [
    "#Whether or not to print out each iteration of the coupled cluster calculation\n",
    "verbose = True\n",
    "\n",
    "#solving the coupled cluster equations until we get to a relative error of 1e-8\n",
    "corrEn, t1, t2 = ccm.ccsd_solver(fock_mats, two_body_int, \n",
    "                            eps = 1e-8, maxSteps = 500, max_diis = 10, mixing = 0.5,\n",
    "                            sparse=sparse, verbose=verbose)"
   ]
  },
  {
   "cell_type": "code",
   "execution_count": 7,
   "id": "eb9200bb-b0c2-4fb0-844d-eb58549f21bb",
   "metadata": {},
   "outputs": [
    {
     "name": "stdout",
     "output_type": "stream",
     "text": [
      "The ground state energy of the O16 on a L=2 size lattice is -128.43733692773486 MeV\n"
     ]
    }
   ],
   "source": [
    "#converting the energy from lattice units to MeV\n",
    "phys_unit = lat.phys_unit(a_lat)\n",
    "gsEn = (corrEn + refEn) * phys_unit\n",
    "\n",
    "print(f'The ground state energy of the O16 on a L={thisL} size lattice is {gsEn} MeV')"
   ]
  },
  {
   "cell_type": "code",
   "execution_count": null,
   "id": "57a2bbf7-e5b7-4071-88c4-17fb9629bc5a",
   "metadata": {},
   "outputs": [],
   "source": []
  }
 ],
 "metadata": {
  "kernelspec": {
   "display_name": "Python 3 (ipykernel)",
   "language": "python",
   "name": "python3"
  },
  "language_info": {
   "codemirror_mode": {
    "name": "ipython",
    "version": 3
   },
   "file_extension": ".py",
   "mimetype": "text/x-python",
   "name": "python",
   "nbconvert_exporter": "python",
   "pygments_lexer": "ipython3",
   "version": "3.13.5"
  }
 },
 "nbformat": 4,
 "nbformat_minor": 5
}
