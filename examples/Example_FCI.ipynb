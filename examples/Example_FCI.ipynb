{
 "cells": [
  {
   "cell_type": "code",
   "execution_count": 1,
   "id": "30b139f5",
   "metadata": {},
   "outputs": [],
   "source": [
    "import sys, pathlib, os\n",
    "sys.path.append(str(pathlib.Path(os.path.abspath(\"\")) / \"..\"))\n",
    "import NuLattice.lattice as lat\n",
    "import NuLattice.FCI.few_body_diagonalization as fbd\n",
    "from scipy.sparse.linalg import eigsh as arpack_eigsh"
   ]
  },
  {
   "cell_type": "code",
   "execution_count": 2,
   "id": "37a2d190",
   "metadata": {},
   "outputs": [
    {
     "name": "stdout",
     "output_type": "stream",
     "text": [
      "number of single-particle states = 108\n",
      "number of lattice sites = 27\n"
     ]
    }
   ],
   "source": [
    "# Initialize lattice\n",
    "# Note: on a laptop, an estimate is that H2 can be solved on L=10, He3 and H3 on L=6, and He4 on L=4 \n",
    "thisL = 3\n",
    "a_lat = 2.0 # lattice spacing in fm\n",
    "\n",
    "phys_unit = lat.phys_unit(a_lat)\n",
    "\n",
    "my_basis = lat.get_sp_basis(thisL)\n",
    "nstat =  len(my_basis)\n",
    "print(\"number of single-particle states =\", nstat)\n",
    "lattice = lat.get_lattice(thisL)\n",
    "nsite = len(lattice)\n",
    "print(\"number of lattice sites =\", nsite)"
   ]
  },
  {
   "cell_type": "code",
   "execution_count": 4,
   "id": "a8d18254",
   "metadata": {},
   "outputs": [
    {
     "name": "stdout",
     "output_type": "stream",
     "text": [
      "number of matrix elements from kinetic energy 756\n",
      "number of matrix elements from two-body contacts 216\n",
      "number of matrix elements from three-body contacts 108\n"
     ]
    }
   ],
   "source": [
    "# Compute operators for kinetic energy, two-body contacts, and three-body contact\n",
    "\n",
    "vT1=-8.0  #S-wave triplet contact\n",
    "vS1=-8.0  #S-wave triplet contact\n",
    "cE = 5.5  #three-body contact\n",
    "\n",
    "myTkin=lat.Tkin(lattice, thisL)\n",
    "print(\"number of matrix elements from kinetic energy\", len(myTkin))\n",
    "\n",
    "mycontact=lat.contacts(vT1, vS1, lattice, thisL)\n",
    "print(\"number of matrix elements from two-body contacts\", len(mycontact))\n",
    "\n",
    "my3body=lat.NNNcontact(cE, lattice, thisL)\n",
    "print(\"number of matrix elements from three-body contacts\", len(my3body))"
   ]
  },
  {
   "cell_type": "code",
   "execution_count": 5,
   "id": "a26d2110",
   "metadata": {},
   "outputs": [
    {
     "name": "stdout",
     "output_type": "stream",
     "text": [
      "matrix dimension: 729\n",
      "kinetic energy done\n",
      "2-body interaction done\n",
      "Energies (MeV): [-4.52392587  5.21576759  5.21576759  5.21576759  5.21576759  5.21576759\n",
      "  5.21576759 12.03643707 12.03643707 12.03643707]\n"
     ]
    }
   ],
   "source": [
    "# Compute the deuteron\n",
    "# additive quantum numbers\n",
    "numpart=2 # number of nucleons\n",
    "tz = 0    # twice the value of isospin projection\n",
    "sz = 2    # twice the value of spin projection\n",
    "\n",
    "# get two-body basis as a dictionary for lookup\n",
    "H2_lookup = fbd.get_many_body_states(my_basis, numpart, total_tz=tz, total_sz=sz)\n",
    "print(\"matrix dimension:\", len(H2_lookup))\n",
    "\n",
    "# make scipy.sparse.csr_matrix for kinetic energy \n",
    "T2_csr_mat = fbd.get_csr_matrix_scalar_op(H2_lookup, myTkin, nstat)\n",
    "print(\"kinetic energy done\")\n",
    "\n",
    "# make scipy.sparse.csr_matrix for 2-body interactions \n",
    "V2_csr_mat = fbd.get_csr_matrix_scalar_op(H2_lookup, mycontact, nstat)\n",
    "print(\"2-body interaction done\")\n",
    "\n",
    "# add all into Hamiltonian\n",
    "H2_csr_mat = T2_csr_mat + V2_csr_mat\n",
    "\n",
    "# compute lowest eigenvalue(s)\n",
    "k_eig=10  # number of eigenvalues\n",
    "vals, vecs = arpack_eigsh(H2_csr_mat, k=k_eig, which='SA')\n",
    "print(\"Energies (MeV):\", vals*phys_unit)"
   ]
  },
  {
   "cell_type": "code",
   "execution_count": 6,
   "id": "0824c88a",
   "metadata": {},
   "outputs": [
    {
     "name": "stdout",
     "output_type": "stream",
     "text": [
      "matrix dimension: 29160\n",
      "kinetic energy done\n",
      "2-body interaction done\n",
      "3-body interaction done\n",
      "Energies (MeV): [-17.65080636 -14.98582316 -14.98582316 -14.98582316 -14.98582316\n",
      " -14.98582316 -14.98582316 -13.14902335 -13.14902335 -13.14902335]\n"
     ]
    }
   ],
   "source": [
    "# Compute He3\n",
    "numpart=3\n",
    "tz = -1 # twice the value\n",
    "sz = -1 # twice the value\n",
    "\n",
    "# get three-body basis as a dictionary for lookup\n",
    "He3_lookup = fbd.get_many_body_states(my_basis, numpart, total_tz=tz, total_sz=sz)\n",
    "print(\"matrix dimension:\", len(He3_lookup))\n",
    "\n",
    "# make scipy.sparse.csr_matrix for kinetic energy \n",
    "T3_csr_mat = fbd.get_csr_matrix_scalar_op(He3_lookup, myTkin, nstat)\n",
    "print(\"kinetic energy done\")\n",
    "\n",
    "# make scipy.sparse.csr_matrix for 2-body interaction \n",
    "V3_csr_mat = fbd.get_csr_matrix_scalar_op(He3_lookup, mycontact, nstat)\n",
    "print(\"2-body interaction done\")\n",
    "\n",
    "# make scipy.sparse.csr_matrix for 3-body interaction \n",
    "W3_csr_mat = fbd.get_csr_matrix_scalar_op(He3_lookup, my3body, nstat)\n",
    "print(\"3-body interaction done\")\n",
    "\n",
    "# add all into Hamiltonian\n",
    "H3_csr_mat = T3_csr_mat + V3_csr_mat + W3_csr_mat\n",
    "\n",
    "# compute lowest eigenvalue(s)\n",
    "k_eig=10  # number of eigenvalues\n",
    "vals, vecs = arpack_eigsh(H3_csr_mat, k=k_eig, which='SA')\n",
    "print(\"Energies (MeV):\", vals*phys_unit)"
   ]
  },
  {
   "cell_type": "code",
   "execution_count": null,
   "id": "a56d60ae",
   "metadata": {},
   "outputs": [
    {
     "name": "stdout",
     "output_type": "stream",
     "text": [
      "matrix dimension: 777843\n"
     ]
    }
   ],
   "source": [
    "# Compute He4\n",
    "numpart=4\n",
    "tz = 0 # twice the value\n",
    "sz = 0 # twice the value\n",
    "\n",
    "# get four-body basis as a dictionary for lookup\n",
    "He4_lookup = fbd.get_many_body_states(my_basis, numpart, total_tz=tz, total_sz=sz)\n",
    "print(\"matrix dimension:\", len(He4_lookup))\n",
    "\n",
    "# make scipy.sparse.csr_matrix for kinetic energy \n",
    "T4_csr_mat = fbd.get_csr_matrix_scalar_op(He4_lookup, myTkin, nstat)\n",
    "print(\"kinetic energy done\")\n",
    "\n",
    "# make scipy.sparse.csr_matrix for 2-body interaction \n",
    "V4_csr_mat = fbd.get_csr_matrix_scalar_op(He4_lookup, mycontact, nstat)\n",
    "print(\"2-body interaction done\")\n",
    "\n",
    "# make scipy.sparse.csr_matrix for 3-body interaction \n",
    "W4_csr_mat = fbd.get_csr_matrix_scalar_op(He4_lookup, my3body, nstat)\n",
    "print(\"3-body interaction done\")\n",
    "\n",
    "# add all into Hamiltonian\n",
    "H4_csr_mat = T4_csr_mat + V4_csr_mat + W4_csr_mat\n",
    "\n",
    "# compute lowest eigenvalue(s)\n",
    "k_eig=2  # number of eigenvalues\n",
    "vals, vecs = arpack_eigsh(H4_csr_mat, k=k_eig, which='SA')\n",
    "print(\"Energies (MeV):\", vals*phys_unit)"
   ]
  },
  {
   "cell_type": "code",
   "execution_count": null,
   "id": "9542ee39",
   "metadata": {},
   "outputs": [],
   "source": []
  }
 ],
 "metadata": {
  "kernelspec": {
   "display_name": "Python 3",
   "language": "python",
   "name": "python3"
  },
  "language_info": {
   "codemirror_mode": {
    "name": "ipython",
    "version": 3
   },
   "file_extension": ".py",
   "mimetype": "text/x-python",
   "name": "python",
   "nbconvert_exporter": "python",
   "pygments_lexer": "ipython3",
   "version": "3.9.15"
  }
 },
 "nbformat": 4,
 "nbformat_minor": 5
}
