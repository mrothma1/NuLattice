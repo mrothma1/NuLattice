{
 "cells": [
  {
   "cell_type": "code",
   "execution_count": 1,
   "id": "e88ec145",
   "metadata": {},
   "outputs": [],
   "source": [
    "import numpy as np\n",
    "import sys, pathlib, os\n",
    "sys.path.append(str(pathlib.Path(os.path.abspath('')) / \"..\"))\n",
    "\n",
    "import NuLattice.HF.hartree_fock as hf\n",
    "import NuLattice.lattice as lat\n",
    "import NuLattice.references as ref"
   ]
  },
  {
   "cell_type": "code",
   "execution_count": 2,
   "id": "8822acfa",
   "metadata": {},
   "outputs": [
    {
     "name": "stdout",
     "output_type": "stream",
     "text": [
      "number of single-particle states = 500\n",
      "number of lattice sites = 125\n"
     ]
    }
   ],
   "source": [
    "# Initialize lattice\n",
    "thisL = 5   #L*L*L lattice\n",
    "a_lat = 2.5 # lattice spacing in fm\n",
    "phys_unit = lat.phys_unit(a_lat)\n",
    "\n",
    "my_basis = lat.get_sp_basis(thisL)\n",
    "nstat =  len(my_basis)\n",
    "print(\"number of single-particle states =\", nstat)\n",
    "lattice = lat.get_lattice(thisL)\n",
    "nsite = len(lattice)\n",
    "print(\"number of lattice sites =\", nsite)"
   ]
  },
  {
   "cell_type": "code",
   "execution_count": 3,
   "id": "0cdf96d3",
   "metadata": {},
   "outputs": [
    {
     "name": "stdout",
     "output_type": "stream",
     "text": [
      "number of matrix elements from kinetic energy 3500\n",
      "number of matrix elements from two-body contacts 1000\n",
      "number of matrix elements from three-body contacts 500\n"
     ]
    }
   ],
   "source": [
    "# Compute operators for kinetic energy, two-body contacts, and three-body contact\n",
    "\n",
    "vT1=-9.0  #S-wave isospin-triplet contact\n",
    "vS1=-9.0  #S-wave spin-triplet contact\n",
    "cE = 6.0  #three-body contact\n",
    "\n",
    "\n",
    "myTkin=lat.Tkin(lattice, thisL)\n",
    "print(\"number of matrix elements from kinetic energy\", len(myTkin))\n",
    "\n",
    "mycontact=lat.contacts(vT1, vS1, lattice, thisL)\n",
    "print(\"number of matrix elements from two-body contacts\", len(mycontact))\n",
    "\n",
    "my3body=lat.NNNcontact(cE, lattice, thisL)\n",
    "print(\"number of matrix elements from three-body contacts\", len(my3body))"
   ]
  },
  {
   "cell_type": "code",
   "execution_count": 4,
   "id": "e6c2b4a4",
   "metadata": {},
   "outputs": [
    {
     "name": "stdout",
     "output_type": "stream",
     "text": [
      "number of particles: 16.0 compare with 16\n"
     ]
    }
   ],
   "source": [
    "# we compute oxygen-16\n",
    "my_ref = ref.ref_16O_gs\n",
    "hole = ref.reference_to_holes(my_ref,my_basis)\n",
    "hnum = len(hole)\n",
    "\n",
    "dens = hf.init_density(nstat,hole)\n",
    "print(\"number of particles:\", np.trace(dens), 'compare with', hnum)"
   ]
  },
  {
   "cell_type": "code",
   "execution_count": 5,
   "id": "6c71e5fc",
   "metadata": {},
   "outputs": [
    {
     "name": "stdout",
     "output_type": "stream",
     "text": [
      "0 E= -24.0 , Delta E= 0.0 , Delta rho = 25.93177082150481\n",
      "1 E= -28.156596914138937 , Delta E= 4.156596914138937 , Delta rho = 11.534450923951269\n",
      "2 E= -30.225467932727618 , Delta E= 2.0688710185886805 , Delta rho = 5.289673519975421\n",
      "3 E= -31.259160567027948 , Delta E= 1.0336926343003299 , Delta rho = 2.4681867711693153\n",
      "4 E= -31.776074072734705 , Delta E= 0.5169135057067571 , Delta rho = 1.176756182824058\n",
      "5 E= -32.034599059052546 , Delta E= 0.25852498631784115 , Delta rho = 0.5739031792574844\n",
      "6 E= -32.16389129508432 , Delta E= 0.1292922360317732 , Delta rho = 0.2865225575667126\n",
      "7 E= -32.228548361558744 , Delta E= 0.0646570664744246 , Delta rho = 0.14500623389060932\n",
      "8 E= -32.260880666721555 , Delta E= 0.032332305162810826 , Delta rho = 0.07461681300809517\n",
      "9 E= -32.27704807719814 , Delta E= 0.016167410476583655 , Delta rho = 0.03882879145753988\n",
      "10 E= -32.28513219450165 , Delta E= 0.008084117303511107 , Delta rho = 0.020362855703091886\n",
      "11 E= -32.28917438675016 , Delta E= 0.004042192248512322 , Delta rho = 0.010752490125007964\n",
      "12 E= -32.29119552592687 , Delta E= 0.002021139176704878 , Delta rho = 0.005697824721764384\n",
      "13 E= -32.29220610934092 , Delta E= 0.001010583414050359 , Delta rho = 0.0030349305219118817\n",
      "14 E= -32.29271140548008 , Delta E= 0.0005052961391598387 , Delta rho = 0.0016301801056896837\n",
      "15 E= -32.29296405496891 , Delta E= 0.00025264948883574334 , Delta rho = 0.0008783697986529519\n",
      "16 E= -32.29309038016782 , Delta E= 0.00012632519890587446 , Delta rho = 0.00047437880932067625\n",
      "17 E= -32.29315354291301 , Delta E= 6.316274519235776e-05 , Delta rho = 0.0002576279443181484\n",
      "18 E= -32.29318512433219 , Delta E= 3.158141917936064e-05 , Delta rho = 0.0001402078512697475\n",
      "19 E= -32.293200915056936 , Delta E= 1.5790724745556872e-05 , Delta rho = 7.641820147840292e-05\n",
      "20 E= -32.293208810423884 , Delta E= 7.895366948673654e-06 , Delta rho = 4.1717292304298395e-05\n",
      "21 E= -32.293212758108936 , Delta E= 3.947685051741701e-06 , Delta rho = 2.2818611952044388e-05\n",
      "22 E= -32.29321473195196 , Delta E= 1.973843026803479e-06 , Delta rho = 1.2599659273965045e-05\n",
      "23 E= -32.293215718873654 , Delta E= 9.869216910374234e-07 , Delta rho = 7.039356092494665e-06\n",
      "24 E= -32.29321621233459 , Delta E= 4.934609378892674e-07 , Delta rho = 3.934918653557396e-06\n",
      "25 E= -32.29321645906492 , Delta E= 2.467303303888002e-07 , Delta rho = 2.20229240739191e-06\n",
      "26 E= -32.2932165824303 , Delta E= 1.2336537480450716e-07 , Delta rho = 1.2339734203421294e-06\n",
      "27 E= -32.293216644112675 , Delta E= 6.168237831616352e-08 , Delta rho = 6.924967800953802e-07\n",
      "28 E= -32.2932166749542 , Delta E= 3.084152666588125e-08 , Delta rho = 3.8907783583534995e-07\n",
      "29 E= -32.29321669037478 , Delta E= 1.5420575039115647e-08 , Delta rho = 2.1879165702716516e-07\n",
      "30 E= -32.29321669808521 , Delta E= 7.710433180818654e-09 , Delta rho = 1.2310864884668864e-07\n",
      "31 E= -32.293216701940146 , Delta E= 3.854935926028702e-09 , Delta rho = 6.93097584533692e-08\n",
      "32 E= -32.29321670386788 , Delta E= 1.9277308638265822e-09 , Delta rho = 3.904492064061226e-08\n",
      "33 E= -32.29321670483156 , Delta E= 9.636806908019935e-10 , Delta rho = 2.2010401718684326e-08\n",
      "34 E= -32.2932167053135 , Delta E= 4.819398213840032e-10 , Delta rho = 1.2414598959285448e-08\n",
      "35 E= -32.29321670555451 , Delta E= 2.410089905424684e-10 , Delta rho = 7.0059956890283064e-09\n",
      "HF energy (MeV) =  -107.13864353184287\n"
     ]
    }
   ],
   "source": [
    "eps=1.e-8\n",
    "mix = 0.5\n",
    "max_iter=100\n",
    "verbose = True\n",
    "erg, trafo, conv = hf.solve_HF(myTkin, mycontact, my3body, dens,\n",
    "                               mix=mix, eps=eps, max_iter=max_iter, verbose=verbose)\n",
    "\n",
    "if conv:\n",
    "    print(\"HF energy (MeV) = \", erg*phys_unit)\n",
    "else:\n",
    "    print(\"HF did not converge\")\n"
   ]
  },
  {
   "cell_type": "code",
   "execution_count": null,
   "id": "93b2088e-09e7-487d-aef8-3442499f7925",
   "metadata": {},
   "outputs": [],
   "source": []
  }
 ],
 "metadata": {
  "kernelspec": {
   "display_name": "Python 3",
   "language": "python",
   "name": "python3"
  },
  "language_info": {
   "codemirror_mode": {
    "name": "ipython",
    "version": 3
   },
   "file_extension": ".py",
   "mimetype": "text/x-python",
   "name": "python",
   "nbconvert_exporter": "python",
   "pygments_lexer": "ipython3",
   "version": "3.9.15"
  }
 },
 "nbformat": 4,
 "nbformat_minor": 5
}
