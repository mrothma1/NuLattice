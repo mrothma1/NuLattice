{
 "cells": [
  {
   "cell_type": "code",
   "execution_count": null,
   "id": "eeda4074",
   "metadata": {},
   "outputs": [],
   "source": [
    "import numpy as np"
   ]
  },
  {
   "cell_type": "code",
   "execution_count": null,
   "id": "1d469ab5",
   "metadata": {},
   "outputs": [],
   "source": [
    "def smearMat(myL, sL, sNL):\n",
    "\tnn = np.linspace(0,myL**3-1, num=myL**3)\n",
    "\tnx = nn % myL\n",
    "\tny = ((nn - nx) / myL) % myL\n",
    "\tnz = (nn-nx-ny*myL) / myL ** 2\n",
    "\tnxp = ((nx+1) % myL) + ny*myL + nz*myL**2\n",
    "\tnxm = ((nx-1) % myL) + ny*myL + nz*myL**2\n",
    "\tnyp = nx + ((ny+1) % myL)*myL + nz*myL**2\n",
    "\tnym = nx + ((ny-1) % myL)*myL + nz*myL**2\n",
    "\tnzp = nx + ny*myL + ((nz+1) % myL)*myL**2\n",
    "\tnzm = nx + ny*myL + ((nz-1) % myL)*myL**2\n",
    "\t\n",
    "\tsmear = np.zeros([myL**3, myL**3])\n",
    "\n",
    "\tfor i in range(myL**3):\n",
    "\t\tsmear[int(nn[i])][int(nxp[i])] += 1\n",
    "\t\tsmear[int(nn[i])][int(nxm[i])] += 1\n",
    "\t\tsmear[int(nn[i])][int(nyp[i])] += 1\n",
    "\t\tsmear[int(nn[i])][int(nym[i])] += 1\n",
    "\t\tsmear[int(nn[i])][int(nzp[i])] += 1\n",
    "\t\tsmear[int(nn[i])][int(nzm[i])] += 1\n",
    "\t\t\n",
    "\tid = np.identity(myL**3)\n",
    "\tlocMat = sL*smear + id\n",
    "\tnonLocMat = sNL*smear + id\n",
    "\treturn locMat, nonLocMat"
   ]
  },
  {
   "cell_type": "code",
   "execution_count": 117,
   "id": "331aef2d",
   "metadata": {},
   "outputs": [],
   "source": [
    "def interact(myL, c0, sL, sNL):\n",
    "\tlocal, nonLocal = smearMat(myL, sL, sNL)\n",
    "\tlocOrigin = np.zeros([myL**3 , 1])\n",
    "\tlocOrigin[0,0] = 1.0\n",
    "\tlocSq = np.square(local)\n",
    "\tnonLocSq = np.square(nonLocal)\n",
    "\tlocPot = np.dot(locSq, locOrigin)\n",
    "\n",
    "\tfSL = np.zeros([myL**3, myL**3])\n",
    "\tfor i in range(myL**3):\n",
    "\t\tfSL[i,i] = locPot[i][0]\n",
    "\n",
    "\treturn c0/2 * np.dot(np.dot(nonLocSq, fSL), nonLocSq)"
   ]
  },
  {
   "cell_type": "code",
   "execution_count": null,
   "id": "45e8c1ee",
   "metadata": {},
   "outputs": [
    {
     "name": "stdout",
     "output_type": "stream",
     "text": [
      "[[96.5 10.  10.  64.  10.  64.  64.   0. ]\n",
      " [10.  10.   8.   8.   8.   8.   0.   0. ]\n",
      " [10.   8.  10.   8.   8.   0.   8.   0. ]\n",
      " [64.   8.   8.  64.   0.  32.  32.   0. ]\n",
      " [10.   8.   8.   0.  10.   8.   8.   0. ]\n",
      " [64.   8.   0.  32.   8.  64.  32.   0. ]\n",
      " [64.   0.   8.  32.   8.  32.  64.   0. ]\n",
      " [ 0.   0.   0.   0.   0.   0.   0.   0. ]]\n"
     ]
    }
   ],
   "source": [
    "print(interact(2, 1, 1, 1))"
   ]
  },
  {
   "cell_type": "code",
   "execution_count": null,
   "id": "b89dc178",
   "metadata": {},
   "outputs": [],
   "source": []
  }
 ],
 "metadata": {
  "kernelspec": {
   "display_name": ".venv",
   "language": "python",
   "name": "python3"
  },
  "language_info": {
   "codemirror_mode": {
    "name": "ipython",
    "version": 3
   },
   "file_extension": ".py",
   "mimetype": "text/x-python",
   "name": "python",
   "nbconvert_exporter": "python",
   "pygments_lexer": "ipython3",
   "version": "3.13.7"
  }
 },
 "nbformat": 4,
 "nbformat_minor": 5
}
