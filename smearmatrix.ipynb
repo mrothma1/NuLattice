{
 "cells": [
  {
   "cell_type": "code",
   "execution_count": 1,
   "id": "eeda4074",
   "metadata": {},
   "outputs": [],
   "source": [
    "%load_ext autoreload\n",
    "%autoreload 2\n",
    "import numpy as np\n",
    "import NuLattice.smearedInteraction as smearI\n",
    "import NuLattice.CCM.coupled_cluster as ccm\n",
    "import NuLattice.references as ref\n",
    "import NuLattice.FCI.few_body_diagonalization as fbd\n",
    "import NuLattice.lattice as lat\n",
    "from scipy.sparse.linalg import eigsh as arpack_eigsh"
   ]
  },
  {
   "cell_type": "code",
   "execution_count": 6,
   "id": "3571a0f3",
   "metadata": {},
   "outputs": [],
   "source": [
    "myL= 4\n",
    "bpi = 0.7\n",
    "sL = 0.08\n",
    "sNL = 0.08\n",
    "a = 1.0 / 100.0\n",
    "at = 1.0 / 1e8\n",
    "c0 = -1.85e-05/ (a ** 2)\n",
    "tKin, inter = smearI.get_full_int(myL, bpi, c0, sL, sNL, a, at, 2)\n",
    "holes = ref.ref_2H_gs\n",
    "no2b_stuff = ccm.get_norm_ordered_ham(myL, holes, tKin, inter)"
   ]
  },
  {
   "cell_type": "code",
   "execution_count": 7,
   "id": "bd58fb3d",
   "metadata": {},
   "outputs": [
    {
     "name": "stdout",
     "output_type": "stream",
     "text": [
      "matrix dimension: 4096\n",
      "kinetic energy done\n",
      "2-body interaction done\n",
      "Energies (MeV): [-3.60895936 -3.60895936 -0.39343633 -0.36696966 -0.36696966 -0.36696966\n",
      " -0.36696966 -0.36696966 -0.36696966 -0.36696966]\n"
     ]
    }
   ],
   "source": [
    "# Compute the deuteron\n",
    "# additive quantum numbers\n",
    "numpart=2 # number of nucleons\n",
    "tz = 0    # twice the value of isospin projection\n",
    "sz = 2    # twice the value of spin projection\n",
    "my_basis = lat.get_sp_basis(myL)\n",
    "nstat =  len(my_basis)\n",
    "\n",
    "# get two-body basis as a dictionary for lookup\n",
    "H2_lookup = fbd.get_many_body_states(my_basis, numpart, total_tz=tz, total_sz=sz)\n",
    "print(\"matrix dimension:\", len(H2_lookup))\n",
    "\n",
    "# make scipy.sparse.csr_matrix for kinetic energy \n",
    "T2_csr_mat = fbd.get_csr_matrix_scalar_op(H2_lookup, tKin, nstat)\n",
    "print(\"kinetic energy done\")\n",
    "\n",
    "# make scipy.sparse.csr_matrix for 2-body interactions \n",
    "V2_csr_mat = fbd.get_csr_matrix_scalar_op(H2_lookup, inter, nstat)\n",
    "print(\"2-body interaction done\")\n",
    "\n",
    "# add all into Hamiltonian\n",
    "H2_csr_mat = T2_csr_mat + V2_csr_mat\n",
    "\n",
    "# compute lowest eigenvalue(s)\n",
    "k_eig=10  # number of eigenvalues\n",
    "vals, vecs = arpack_eigsh(H2_csr_mat, k=k_eig, which='SA')\n",
    "print(\"Energies (MeV):\", vals / a)"
   ]
  },
  {
   "cell_type": "code",
   "execution_count": 62,
   "id": "4167ca40",
   "metadata": {},
   "outputs": [
    {
     "name": "stdout",
     "output_type": "stream",
     "text": [
      "Step 0: -1.075258189937382e-06\n",
      "Step 1: 0.0012953670614850098 difference = 1.0008300799224468\n",
      "Step 2: 0.0005971898369319832 difference = 1.169104330609272\n",
      "Step 3: 0.0021600952435877336 difference = 0.7235354141421553\n",
      "Step 4: 0.0020574187334617745 difference = 0.049905499768244835\n",
      "Step 5: 0.0021941882242117908 difference = 0.062332615425072485\n",
      "Step 6: 0.0025740476136065825 difference = 0.14757279056798733\n",
      "Step 7: 0.003203687301119219 difference = 0.19653593760310809\n",
      "Step 8: -0.0076503207251407135 difference = 1.4187650970751027\n",
      "Step 9: 3.879776255021323 difference = 1.0019718458545745\n",
      "Step 10: -3.2435807490637423 difference = 2.196139869846378\n",
      "Step 11: 0.002138672497837957 difference = 1517.6327487461347\n",
      "Step 12: 0.0012817872861015619 difference = 0.6685081222349557\n",
      "Step 13: 0.0036604295261382083 difference = 0.6498259898329852\n",
      "Step 14: 0.006926171690146123 difference = 0.4715075383785377\n",
      "Step 15: -0.0006765588321140242 difference = 11.237353148585926\n",
      "Step 16: -0.016943748901589853 difference = 0.9600702987252991\n",
      "Step 17: -0.01993760340186025 difference = 0.15016120242371062\n",
      "Step 18: 0.5904544744490838 difference = 1.0337665379205785\n",
      "Step 19: 0.11312790724711144 difference = 4.219352932599752\n",
      "Step 20: 0.016421763432600267 difference = 5.888901287089023\n",
      "Step 21: 0.009165176562852111 difference = 0.7917563638828556\n",
      "Step 22: 0.017684495181714416 difference = 0.4817394294450198\n",
      "Step 23: 0.003895419270099899 difference = 3.5398181698836475\n",
      "Step 24: -0.038401021343256174 difference = 1.101440512096796\n",
      "Step 25: -0.0077957274390194065 difference = 3.9259060996732957\n",
      "Step 26: 0.002610728697488636 difference = 3.9860350661937516\n",
      "Step 27: -0.010536756334626592 difference = 1.2477734717001174\n",
      "Step 28: 0.4786086265393016 difference = 1.0220153915962928\n",
      "Step 29: -0.2690553692565892 difference = 2.7788480782290894\n",
      "Step 30: 0.14896676357171684 difference = 2.806143617579892\n",
      "Step 31: -0.013431863892561707 difference = 12.090550407841134\n",
      "Step 32: 0.0005652735596295803 difference = 24.761705573781853\n",
      "Step 33: -0.09064144265832735 difference = 1.0062363698442045\n",
      "Step 34: -0.026237857583188223 difference = 2.454605330139661\n",
      "Step 35: -0.11563496239276136 difference = 0.7730975386659469\n",
      "Step 36: -0.026578795080592736 difference = 3.3506472750977156\n",
      "Step 37: -0.04442257051908685 difference = 0.40168264082843336\n",
      "Step 38: -0.28320887657871097 difference = 0.8431455572447756\n",
      "Step 39: -0.2847192541041878 difference = 0.005304795877710964\n",
      "Step 40: -0.08992958449902339 difference = 2.1660243477192958\n",
      "Step 41: -0.04505140444866015 difference = 0.9961549611956202\n",
      "Step 42: -0.01983103888409768 difference = 1.2717621962199084\n",
      "Step 43: -0.0032531896814125064 difference = 5.095875379601972\n",
      "Step 44: 0.05029874634979556 difference = 1.0646773511766805\n",
      "Step 45: -2.9445198469956186 difference = 1.0170821556530232\n",
      "Step 46: -1.5056757363169926 difference = 0.955613533494375\n",
      "Step 47: -0.7838813323579354 difference = 0.9207955007524937\n",
      "Step 48: -0.7207412692933681 difference = 0.08760433980209201\n"
     ]
    },
    {
     "ename": "KeyboardInterrupt",
     "evalue": "",
     "output_type": "error",
     "traceback": [
      "\u001b[31m---------------------------------------------------------------------------\u001b[39m",
      "\u001b[31mKeyboardInterrupt\u001b[39m                         Traceback (most recent call last)",
      "\u001b[36mCell\u001b[39m\u001b[36m \u001b[39m\u001b[32mIn[62]\u001b[39m\u001b[32m, line 1\u001b[39m\n\u001b[32m----> \u001b[39m\u001b[32m1\u001b[39m corrEn, t1, t2 = ccm.ccsd_solver(no2b_stuff[\u001b[32m1\u001b[39m], no2b_stuff[\u001b[32m2\u001b[39m], \n\u001b[32m      2\u001b[39m                             eps = \u001b[32m1e-8\u001b[39m, maxSteps = \u001b[32m500\u001b[39m, max_diis = \u001b[32m10\u001b[39m, mixing = \u001b[32m0.5\u001b[39m,\n\u001b[32m      3\u001b[39m                             sparse=\u001b[38;5;28;01mTrue\u001b[39;00m, verbose=\u001b[38;5;28;01mTrue\u001b[39;00m, delta = -\u001b[32m10\u001b[39m)\n\u001b[32m      4\u001b[39m ccsdEn = corrEn + no2b_stuff[\u001b[32m0\u001b[39m]\n\u001b[32m      5\u001b[39m \u001b[38;5;28mprint\u001b[39m(\u001b[33mf\u001b[39m\u001b[33m'\u001b[39m\u001b[33mEnergy: \u001b[39m\u001b[38;5;132;01m{\u001b[39;00mccsdEn\u001b[38;5;250m \u001b[39m/\u001b[38;5;250m \u001b[39mat\u001b[38;5;132;01m}\u001b[39;00m\u001b[33m'\u001b[39m)\n",
      "\u001b[36mFile \u001b[39m\u001b[32mc:\\Users\\aleph\\Documents\\Research\\NuLattice\\NuLattice\\CCM\\coupled_cluster.py:603\u001b[39m, in \u001b[36mccsd_solver\u001b[39m\u001b[34m(fock_mats, two_body_int, t1initial, eps, maxSteps, max_diis, delta, mixing, verbose, sparse, ccs)\u001b[39m\n\u001b[32m    598\u001b[39m \u001b[38;5;28;01mif\u001b[39;00m \u001b[38;5;129;01mnot\u001b[39;00m ccs:\n\u001b[32m    599\u001b[39m     t2 = mixing * t2 + (\u001b[32m1.\u001b[39m - mixing) * t2Iter(oldT1, t2, f_ph, f_hh, f_pp,\n\u001b[32m    600\u001b[39m                                               v_pppp, v_phph, v_phhh, v_pphh, v_ppph_results, v_hhhh,\n\u001b[32m    601\u001b[39m                                               sparse=sparse)\n\u001b[32m--> \u001b[39m\u001b[32m603\u001b[39m energy = ccsd_energy(f_ph,v_pphh, t2, t1)\n\u001b[32m    605\u001b[39m \u001b[38;5;28;01mif\u001b[39;00m verbose:\n\u001b[32m    606\u001b[39m     \u001b[38;5;28mprint\u001b[39m(\u001b[33mf\u001b[39m\u001b[33m'\u001b[39m\u001b[33mStep \u001b[39m\u001b[38;5;132;01m{\u001b[39;00mi+\u001b[32m1\u001b[39m\u001b[38;5;132;01m}\u001b[39;00m\u001b[33m: \u001b[39m\u001b[38;5;132;01m{\u001b[39;00menergy\u001b[38;5;132;01m}\u001b[39;00m\u001b[33m'\u001b[39m, \u001b[33m\"\u001b[39m\u001b[33mdifference =\u001b[39m\u001b[33m\"\u001b[39m, \u001b[38;5;28mabs\u001b[39m(energy - prevEnergy) / \u001b[38;5;28mabs\u001b[39m(energy))\n",
      "\u001b[36mFile \u001b[39m\u001b[32mc:\\Users\\aleph\\Documents\\Research\\NuLattice\\NuLattice\\CCM\\coupled_cluster.py:280\u001b[39m, in \u001b[36mccsd_energy\u001b[39m\u001b[34m(f_ph, v_pphh, t2, t1)\u001b[39m\n\u001b[32m    261\u001b[39m \u001b[38;5;28;01mdef\u001b[39;00m\u001b[38;5;250m \u001b[39m\u001b[34mccsd_energy\u001b[39m(f_ph, v_pphh, t2, t1):\n\u001b[32m    262\u001b[39m \u001b[38;5;250m    \u001b[39m\u001b[33;03m\"\"\"\u001b[39;00m\n\u001b[32m    263\u001b[39m \u001b[33;03m    computes ccsd correlation energy\u001b[39;00m\n\u001b[32m    264\u001b[39m \u001b[33;03m    Note: Technically, this would need v_hhpp but this is of course the transpose of v_pphh; \u001b[39;00m\n\u001b[32m   (...)\u001b[39m\u001b[32m    276\u001b[39m \u001b[33;03m    :rtype:         float\u001b[39;00m\n\u001b[32m    277\u001b[39m \u001b[33;03m    \"\"\"\u001b[39;00m\n\u001b[32m    278\u001b[39m     erg = ( contract( \u001b[33m'\u001b[39m\u001b[33mai,ai\u001b[39m\u001b[33m'\u001b[39m, f_ph, t1 )\n\u001b[32m    279\u001b[39m            + contract( \u001b[33m'\u001b[39m\u001b[33mabij,abij\u001b[39m\u001b[33m'\u001b[39m, v_pphh, t2 )*\u001b[32m0.25\u001b[39m\n\u001b[32m--> \u001b[39m\u001b[32m280\u001b[39m            + contract( \u001b[33m'\u001b[39m\u001b[33mabij,ai,bj\u001b[39m\u001b[33m'\u001b[39m, v_pphh, t1, t1, optimize=\u001b[33m'\u001b[39m\u001b[33mgreedy\u001b[39m\u001b[33m'\u001b[39m )*\u001b[32m0.5\u001b[39m\n\u001b[32m    281\u001b[39m             )\n\u001b[32m    282\u001b[39m     \u001b[38;5;28;01mreturn\u001b[39;00m erg\n",
      "\u001b[36mFile \u001b[39m\u001b[32mc:\\Users\\aleph\\miniconda3\\Lib\\site-packages\\opt_einsum\\contract.py:603\u001b[39m, in \u001b[36mcontract\u001b[39m\u001b[34m(subscripts, out, use_blas, optimize, memory_limit, backend, *operands, **kwargs)\u001b[39m\n\u001b[32m    600\u001b[39m \u001b[38;5;28;01mif\u001b[39;00m gen_expression:\n\u001b[32m    601\u001b[39m     \u001b[38;5;28;01mreturn\u001b[39;00m ContractExpression(full_str, contraction_list, constants_dict, **kwargs)\n\u001b[32m--> \u001b[39m\u001b[32m603\u001b[39m \u001b[38;5;28;01mreturn\u001b[39;00m _core_contract(operands, contraction_list, backend=backend, out=out, **kwargs)\n",
      "\u001b[36mFile \u001b[39m\u001b[32mc:\\Users\\aleph\\miniconda3\\Lib\\site-packages\\opt_einsum\\contract.py:702\u001b[39m, in \u001b[36m_core_contract\u001b[39m\u001b[34m(operands_, contraction_list, backend, evaluate_constants, out, **kwargs)\u001b[39m\n\u001b[32m    700\u001b[39m     \u001b[38;5;28;01mif\u001b[39;00m handle_out:\n\u001b[32m    701\u001b[39m         out_kwarg = out\n\u001b[32m--> \u001b[39m\u001b[32m702\u001b[39m     new_view = _einsum(einsum_str, *tmp_operands, backend=backend, out=out_kwarg, **kwargs)\n\u001b[32m    704\u001b[39m \u001b[38;5;66;03m# Append new items and dereference what we can\u001b[39;00m\n\u001b[32m    705\u001b[39m operands.append(new_view)\n",
      "\u001b[36mFile \u001b[39m\u001b[32mc:\\Users\\aleph\\miniconda3\\Lib\\site-packages\\opt_einsum\\sharing.py:164\u001b[39m, in \u001b[36meinsum_cache_wrap.<locals>.cached_einsum\u001b[39m\u001b[34m(*args, **kwargs)\u001b[39m\n\u001b[32m    161\u001b[39m \u001b[38;5;129m@functools\u001b[39m.wraps(einsum)\n\u001b[32m    162\u001b[39m \u001b[38;5;28;01mdef\u001b[39;00m\u001b[38;5;250m \u001b[39m\u001b[34mcached_einsum\u001b[39m(*args, **kwargs):\n\u001b[32m    163\u001b[39m     \u001b[38;5;28;01mif\u001b[39;00m \u001b[38;5;129;01mnot\u001b[39;00m currently_sharing():\n\u001b[32m--> \u001b[39m\u001b[32m164\u001b[39m         \u001b[38;5;28;01mreturn\u001b[39;00m einsum(*args, **kwargs)\n\u001b[32m    166\u001b[39m     \u001b[38;5;66;03m# hash modulo commutativity by computing a canonical ordering and names\u001b[39;00m\n\u001b[32m    167\u001b[39m     backend = kwargs.pop(\u001b[33m\"\u001b[39m\u001b[33mbackend\u001b[39m\u001b[33m\"\u001b[39m, \u001b[33m\"\u001b[39m\u001b[33mnumpy\u001b[39m\u001b[33m\"\u001b[39m)\n",
      "\u001b[36mFile \u001b[39m\u001b[32mc:\\Users\\aleph\\miniconda3\\Lib\\site-packages\\opt_einsum\\contract.py:451\u001b[39m, in \u001b[36m_einsum\u001b[39m\u001b[34m(*operands, **kwargs)\u001b[39m\n\u001b[32m    448\u001b[39m     einsum_str = parser.convert_to_valid_einsum_chars(einsum_str)\n\u001b[32m    450\u001b[39m kwargs = _filter_einsum_defaults(kwargs)  \u001b[38;5;66;03m# type: ignore\u001b[39;00m\n\u001b[32m--> \u001b[39m\u001b[32m451\u001b[39m \u001b[38;5;28;01mreturn\u001b[39;00m fn(einsum_str, *operands, **kwargs)\n",
      "\u001b[36mFile \u001b[39m\u001b[32mc:\\Users\\aleph\\miniconda3\\Lib\\site-packages\\numpy\\_core\\einsumfunc.py:1423\u001b[39m, in \u001b[36meinsum\u001b[39m\u001b[34m(out, optimize, *operands, **kwargs)\u001b[39m\n\u001b[32m   1421\u001b[39m     \u001b[38;5;28;01mif\u001b[39;00m specified_out:\n\u001b[32m   1422\u001b[39m         kwargs[\u001b[33m'\u001b[39m\u001b[33mout\u001b[39m\u001b[33m'\u001b[39m] = out\n\u001b[32m-> \u001b[39m\u001b[32m1423\u001b[39m     \u001b[38;5;28;01mreturn\u001b[39;00m c_einsum(*operands, **kwargs)\n\u001b[32m   1425\u001b[39m \u001b[38;5;66;03m# Check the kwargs to avoid a more cryptic error later, without having to\u001b[39;00m\n\u001b[32m   1426\u001b[39m \u001b[38;5;66;03m# repeat default values here\u001b[39;00m\n\u001b[32m   1427\u001b[39m valid_einsum_kwargs = [\u001b[33m'\u001b[39m\u001b[33mdtype\u001b[39m\u001b[33m'\u001b[39m, \u001b[33m'\u001b[39m\u001b[33morder\u001b[39m\u001b[33m'\u001b[39m, \u001b[33m'\u001b[39m\u001b[33mcasting\u001b[39m\u001b[33m'\u001b[39m]\n",
      "\u001b[31mKeyboardInterrupt\u001b[39m: "
     ]
    }
   ],
   "source": [
    "corrEn, t1, t2 = ccm.ccsd_solver(no2b_stuff[1], no2b_stuff[2], \n",
    "                            eps = 1e-8, maxSteps = 500, max_diis = 10, mixing = 0.5,\n",
    "                            sparse=True, verbose=True, delta = -10)\n",
    "ccsdEn = corrEn + no2b_stuff[0]\n",
    "print(f'Energy: {ccsdEn / at}')"
   ]
  },
  {
   "cell_type": "code",
   "execution_count": null,
   "id": "10e9b77b",
   "metadata": {},
   "outputs": [],
   "source": []
  }
 ],
 "metadata": {
  "kernelspec": {
   "display_name": "base",
   "language": "python",
   "name": "python3"
  },
  "language_info": {
   "codemirror_mode": {
    "name": "ipython",
    "version": 3
   },
   "file_extension": ".py",
   "mimetype": "text/x-python",
   "name": "python",
   "nbconvert_exporter": "python",
   "pygments_lexer": "ipython3",
   "version": "3.13.5"
  }
 },
 "nbformat": 4,
 "nbformat_minor": 5
}
