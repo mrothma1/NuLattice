{
 "cells": [
  {
   "cell_type": "code",
   "execution_count": 30,
   "id": "eeda4074",
   "metadata": {},
   "outputs": [
    {
     "name": "stdout",
     "output_type": "stream",
     "text": [
      "The autoreload extension is already loaded. To reload it, use:\n",
      "  %reload_ext autoreload\n"
     ]
    }
   ],
   "source": [
    "%load_ext autoreload\n",
    "%autoreload 2\n",
    "import NuLattice.smearedInteraction as smearI\n",
    "import NuLattice.CCM.coupled_cluster as ccm\n",
    "import NuLattice.references as ref"
   ]
  },
  {
   "cell_type": "code",
   "execution_count": 31,
   "id": "3571a0f3",
   "metadata": {},
   "outputs": [],
   "source": [
    "myL= 5\n",
    "bpi = 0.7\n",
    "c0 = -0.185\n",
    "sL = 0.08\n",
    "sNL = 0.08\n",
    "a_lat = 1.97\n",
    "tKin, inter = smearI.get_full_int(myL, bpi, c0, sL, sNL, a_lat)\n",
    "holes = ref.ref_4He_gs\n",
    "no2b_stuff = ccm.get_norm_ordered_ham(myL, holes, tKin, inter)"
   ]
  },
  {
   "cell_type": "code",
   "execution_count": 32,
   "id": "4167ca40",
   "metadata": {},
   "outputs": [
    {
     "name": "stdout",
     "output_type": "stream",
     "text": [
      "Step 0: -57998.30264463325\n",
      "Step 1: -8210.248436381153 difference = 6.064134915532139\n",
      "Step 2: -1183.4007462396332 difference = 5.93784287568686\n",
      "Step 3: -293.460378778511 difference = 3.03257417974235\n",
      "Step 4: -556.1886182429611 difference = 0.47237255644393994\n",
      "Step 5: -383.9319746047216 difference = 0.44866449014981596\n",
      "Step 6: -590.4151688769018 difference = 0.3497254223074184\n",
      "Step 7: -439.44401233400856 difference = 0.343550377990233\n",
      "Step 8: -611.7052497430245 difference = 0.2816082377605593\n",
      "Step 9: -482.17157347524505 difference = 0.26864643913818326\n",
      "Step 10: -620.6613323227368 difference = 0.22313257107416945\n",
      "Step 11: -562.8085318942442 difference = 0.10279304088333115\n",
      "Step 12: -552.0273019847018 difference = 0.01953024763590618\n",
      "Step 13: -568.963163941367 difference = 0.029766183524686872\n",
      "Step 14: -573.2623143404282 difference = 0.007499447096932629\n",
      "Step 15: -583.1397349775832 difference = 0.016938342638466677\n",
      "Step 16: -587.7751879095839 difference = 0.007886438603314715\n",
      "Step 17: -594.8157882140997 difference = 0.011836606297312324\n",
      "Step 18: -598.4831720156373 difference = 0.006127797694271206\n",
      "Step 19: -603.4624125792393 difference = 0.008251119638620798\n",
      "Step 20: -606.1434040556804 difference = 0.004423031676172228\n",
      "Step 21: -620.7166542816684 difference = 0.023478104100256567\n",
      "Step 22: -620.8359068000295 difference = 0.0001920837971111962\n",
      "Step 23: -620.9584060230662 difference = 0.0001972744419730869\n",
      "Step 24: -621.0368453367738 difference = 0.00012630380032450556\n",
      "Step 25: -621.1222944136182 difference = 0.0001375720652968247\n",
      "Step 26: -621.1759945471675 difference = 8.644914488121587e-05\n",
      "Step 27: -621.2322404838457 difference = 9.053930722320046e-05\n",
      "Step 28: -621.2678219546376 difference = 5.72723542642315e-05\n",
      "Step 29: -621.3040082989752 difference = 5.824257344911016e-05\n",
      "Step 30: -621.327121428711 difference = 3.719961504772888e-05\n",
      "Step 31: -621.4293180230105 difference = 0.00016445409209947667\n",
      "Step 32: -621.4297212628926 difference = 6.488905636119058e-07\n",
      "Step 33: -621.4297154316315 difference = 9.383621263944137e-09\n",
      "Energy found in 33 iterations\n",
      "Energy: 0.0008062024135142565\n"
     ]
    }
   ],
   "source": [
    "corrEn, t1, t2 = ccm.ccsd_solver(no2b_stuff[1], no2b_stuff[2], \n",
    "                            eps = 1e-8, maxSteps = 500, max_diis = 10, mixing = 0.5,\n",
    "                            sparse=True, verbose=True, delta = 0)\n",
    "print(f'Energy: {corrEn + no2b_stuff[0]}')"
   ]
  },
  {
   "cell_type": "code",
   "execution_count": null,
   "id": "601c50a1",
   "metadata": {},
   "outputs": [],
   "source": []
  }
 ],
 "metadata": {
  "kernelspec": {
   "display_name": ".venv",
   "language": "python",
   "name": "python3"
  },
  "language_info": {
   "codemirror_mode": {
    "name": "ipython",
    "version": 3
   },
   "file_extension": ".py",
   "mimetype": "text/x-python",
   "name": "python",
   "nbconvert_exporter": "python",
   "pygments_lexer": "ipython3",
   "version": "3.13.7"
  }
 },
 "nbformat": 4,
 "nbformat_minor": 5
}
