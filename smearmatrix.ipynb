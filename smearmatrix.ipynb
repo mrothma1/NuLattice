{
 "cells": [
  {
   "cell_type": "code",
   "execution_count": 3,
   "id": "eeda4074",
   "metadata": {},
   "outputs": [],
   "source": [
    "import numpy as np\n",
    "from opt_einsum import contract\n",
    "import NuLattice.smearedInteraction"
   ]
  },
  {
   "cell_type": "code",
   "execution_count": null,
   "id": "3571a0f3",
   "metadata": {},
   "outputs": [],
   "source": []
  }
 ],
 "metadata": {
  "kernelspec": {
   "display_name": "base",
   "language": "python",
   "name": "python3"
  },
  "language_info": {
   "codemirror_mode": {
    "name": "ipython",
    "version": 3
   },
   "file_extension": ".py",
   "mimetype": "text/x-python",
   "name": "python",
   "nbconvert_exporter": "python",
   "pygments_lexer": "ipython3",
   "version": "3.13.5"
  }
 },
 "nbformat": 4,
 "nbformat_minor": 5
}
