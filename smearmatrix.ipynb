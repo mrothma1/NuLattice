{
 "cells": [
  {
   "cell_type": "code",
   "execution_count": 1,
   "id": "eeda4074",
   "metadata": {},
   "outputs": [],
   "source": [
    "%load_ext autoreload\n",
    "%autoreload 2\n",
    "import NuLattice.smearedInteraction as smearI\n",
    "import NuLattice.CCM.coupled_cluster as ccm\n",
    "import NuLattice.references as ref"
   ]
  },
  {
   "cell_type": "code",
   "execution_count": 2,
   "id": "3571a0f3",
   "metadata": {},
   "outputs": [],
   "source": [
    "myL= 5\n",
    "bpi = 0.7\n",
    "c0 = -0.185\n",
    "sL = 0.08\n",
    "sNL = 0.08\n",
    "a_lat = 1.97\n",
    "tKin, inter = smearI.get_full_int(myL, bpi, c0, sL, sNL, a_lat)\n",
    "holes = ref.ref_3H_gs\n",
    "no2b_stuff = ccm.get_norm_ordered_ham(myL, holes, tKin, inter)"
   ]
  },
  {
   "cell_type": "code",
   "execution_count": 3,
   "id": "4167ca40",
   "metadata": {},
   "outputs": [
    {
     "name": "stdout",
     "output_type": "stream",
     "text": [
      "Step 0: -4332.144175208456\n",
      "Step 1: -611.9852149009093 difference = 6.078837968185068\n",
      "Step 2: -96.02225124942495 difference = 5.373368744617664\n",
      "Step 3: -72.93159741355922 difference = 0.3166069941527538\n",
      "Step 4: -87.95368022472648 difference = 0.17079538653510598\n",
      "Step 5: -94.6827885700404 difference = 0.07107002705498207\n",
      "Step 6: -93.56894918260156 difference = 0.011903942463489312\n",
      "Step 7: -104.47067957970935 difference = 0.10435205783063718\n",
      "Step 8: -99.99754582822236 difference = 0.04473243532567319\n",
      "Step 9: -109.65209276728646 difference = 0.08804708323765287\n",
      "Step 10: -105.52416776317116 difference = 0.039118290071518375\n",
      "Step 11: -105.55719035842492 difference = 0.0003128407940910958\n",
      "Step 12: -101.4006174809066 difference = 0.04099159335297917\n",
      "Step 13: -109.09515267204345 difference = 0.07053049565151431\n",
      "Step 14: -108.15285076251897 difference = 0.008712686747329352\n",
      "Step 15: -112.69020192917606 difference = 0.040263936784040374\n",
      "Step 16: -112.17208138762533 difference = 0.0046189794745833046\n",
      "Step 17: -115.1497367760108 difference = 0.025858985628231225\n",
      "Step 18: -114.83152863332828 difference = 0.0027710868824066715\n",
      "Step 19: -116.77799937156965 difference = 0.016668128831767385\n",
      "Step 20: -116.60461019402359 difference = 0.0014869838958986815\n",
      "Step 21: -120.04705345847896 difference = 0.028675783080723525\n",
      "Step 22: -119.97674857206059 difference = 0.0005859875955560119\n",
      "Step 23: -119.97053398689886 difference = 5.180092940494408e-05\n",
      "Step 24: -119.93697259710964 difference = 0.00027982522038430937\n",
      "Step 25: -119.93695935670772 difference = 1.1039467731937389e-07\n",
      "Step 26: -119.9192873907406 difference = 0.00014736550184399488\n",
      "Step 27: -119.92041383216379 difference = 9.393241627386906e-06\n",
      "Step 28: -119.91058370752083 difference = 8.197879068737624e-05\n",
      "Step 29: -119.91154448517425 difference = 8.012386610006232e-06\n",
      "Step 30: -119.90587872914128 difference = 4.725169518807993e-05\n",
      "Step 31: -119.89905316944387 difference = 5.692755294537677e-05\n",
      "Step 32: -119.89888220333371 difference = 1.4259191330198786e-06\n",
      "Step 33: -119.8988816771423 difference = 4.3886265379301806e-09\n",
      "Energy found in 33 iterations\n",
      "Energy: 0.0003333775853775478\n"
     ]
    }
   ],
   "source": [
    "corrEn, t1, t2 = ccm.ccsd_solver(no2b_stuff[1], no2b_stuff[2], \n",
    "                            eps = 1e-8, maxSteps = 500, max_diis = 10, mixing = 0.5,\n",
    "                            sparse=True, verbose=True)\n",
    "print(f'Energy: {corrEn + no2b_stuff[0]}')"
   ]
  },
  {
   "cell_type": "code",
   "execution_count": null,
   "id": "601c50a1",
   "metadata": {},
   "outputs": [],
   "source": []
  }
 ],
 "metadata": {
  "kernelspec": {
   "display_name": ".venv",
   "language": "python",
   "name": "python3"
  },
  "language_info": {
   "codemirror_mode": {
    "name": "ipython",
    "version": 3
   },
   "file_extension": ".py",
   "mimetype": "text/x-python",
   "name": "python",
   "nbconvert_exporter": "python",
   "pygments_lexer": "ipython3",
   "version": "3.13.7"
  }
 },
 "nbformat": 4,
 "nbformat_minor": 5
}
