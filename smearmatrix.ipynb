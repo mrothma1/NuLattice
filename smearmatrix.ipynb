{
 "cells": [
  {
   "cell_type": "code",
   "execution_count": null,
   "id": "eeda4074",
   "metadata": {},
   "outputs": [
    {
     "name": "stdout",
     "output_type": "stream",
     "text": [
      "The autoreload extension is already loaded. To reload it, use:\n",
      "  %reload_ext autoreload\n"
     ]
    }
   ],
   "source": [
    "%load_ext autoreload\n",
    "%autoreload 2\n",
    "import NuLattice.smearedInteraction as smearI\n",
    "import NuLattice.CCM.coupled_cluster as ccm\n",
    "import NuLattice.references as ref"
   ]
  },
  {
   "cell_type": "code",
   "execution_count": 38,
   "id": "3571a0f3",
   "metadata": {},
   "outputs": [],
   "source": [
    "myL= 5\n",
    "bpi = 0.7\n",
    "c0 = -0.185\n",
    "sL = 0.08\n",
    "sNL = 0.08\n",
    "a_lat = 1.7\n",
    "tKin, inter = smearI.get_full_int(myL, bpi, c0, sL, sNL, a_lat)\n",
    "holes = ref.ref_3H_gs\n",
    "no2b_stuff = ccm.get_norm_ordered_ham(myL, holes, tKin, inter)"
   ]
  },
  {
   "cell_type": "code",
   "execution_count": 39,
   "id": "4167ca40",
   "metadata": {},
   "outputs": [
    {
     "name": "stdout",
     "output_type": "stream",
     "text": [
      "Step 0: -7812.177832546855\n",
      "Step 1: -1104.3975867153138 difference = 6.073700564469488\n",
      "Step 2: -165.64895874584226 difference = 5.667096461558855\n",
      "Step 3: -85.38513372264623 difference = 0.9400210730349667\n",
      "Step 4: -131.0128624115162 difference = 0.34826907716550465\n",
      "Step 5: -115.26027669750007 difference = 0.13666968504126278\n",
      "Step 6: -135.78235019109005 difference = 0.15113947773557257\n",
      "Step 7: -130.00765641159126 difference = 0.04441810535540066\n",
      "Step 8: -142.77540538867567 difference = 0.0894254086852489\n",
      "Step 9: -139.02378011953675 difference = 0.02698549317183833\n",
      "Step 10: -148.34152091555745 difference = 0.06281276299792538\n",
      "Step 11: -172.55417540270565 difference = 0.1403191457444648\n",
      "Step 12: -106.89232578220097 difference = 0.6142802969250977\n",
      "Step 13: -157.46302362274315 difference = 0.32115919456558695\n",
      "Step 14: -122.18764130927215 difference = 0.28869844720371196\n",
      "Step 15: -159.00558849460765 difference = 0.23155127775011572\n",
      "Step 16: -132.62170736979294 difference = 0.1989408947303609\n",
      "Step 17: -160.0238207680917 difference = 0.17123771490252193\n",
      "Step 18: -140.9108300884441 difference = 0.13563890488510452\n",
      "Step 19: -160.3317787989085 difference = 0.1211297526663292\n",
      "Step 20: -147.32082334090052 difference = 0.08831715139074812\n",
      "Step 21: -157.124250683676 difference = 0.06239283433409544\n",
      "Step 22: -159.3082163032133 difference = 0.013709058265899701\n",
      "Step 23: -158.61117887781825 difference = 0.004394629876195524\n",
      "Step 24: -159.743695088914 difference = 0.007089583162987339\n",
      "Step 25: -159.43601792779785 difference = 0.0019297845312185404\n",
      "Step 26: -160.15974221289366 difference = 0.004518765297048219\n",
      "Step 27: -160.0139544292287 difference = 0.0009110941866600551\n",
      "Step 28: -160.47461296890617 difference = 0.0028706007209173055\n",
      "Step 29: -160.40534741320997 difference = 0.0004318157518637743\n",
      "Step 30: -160.69450454879316 difference = 0.0017994214325816986\n",
      "Step 31: -161.0762656081475 difference = 0.002370064006096726\n",
      "Step 32: -161.0911438857593 difference = 9.23593765175366e-05\n",
      "Step 33: -161.09243996239402 difference = 8.045545992307808e-06\n",
      "Step 34: -161.10084048461718 difference = 5.2144496564296186e-05\n",
      "Step 35: -161.10184225713527 difference = 6.21825612953252e-06\n",
      "Step 36: -161.10698680324015 difference = 3.193248292301529e-05\n",
      "Step 37: -161.1077314456744 difference = 4.622015514551435e-06\n",
      "Step 38: -161.1109056256922 difference = 1.9701832135240827e-05\n",
      "Step 39: -161.1114440551823 difference = 3.341969239054598e-06\n",
      "Step 40: -161.11340619525836 difference = 1.2178626983381592e-05\n",
      "Step 41: -161.11779763759537 difference = 2.7256097100380285e-05\n",
      "Step 42: -161.11778349990823 difference = 8.774752754359576e-08\n",
      "Step 43: -161.11778551191244 difference = 1.248778469847117e-08\n",
      "Step 44: -161.11777323037808 difference = 7.622706124242719e-08\n",
      "Step 45: -161.1177725121484 difference = 4.457792955389153e-09\n",
      "Energy found in 45 iterations\n",
      "Energy: 0.00039795471616344\n"
     ]
    }
   ],
   "source": [
    "corrEn, t1, t2 = ccm.ccsd_solver(no2b_stuff[1], no2b_stuff[2], \n",
    "                            eps = 1e-8, maxSteps = 500, max_diis = 10, mixing = 0.5,\n",
    "                            sparse=True, verbose=True)\n",
    "print(f'Energy: {corrEn + no2b_stuff[0]}')"
   ]
  },
  {
   "cell_type": "code",
   "execution_count": null,
   "id": "601c50a1",
   "metadata": {},
   "outputs": [],
   "source": []
  }
 ],
 "metadata": {
  "kernelspec": {
   "display_name": "base",
   "language": "python",
   "name": "python3"
  },
  "language_info": {
   "codemirror_mode": {
    "name": "ipython",
    "version": 3
   },
   "file_extension": ".py",
   "mimetype": "text/x-python",
   "name": "python",
   "nbconvert_exporter": "python",
   "pygments_lexer": "ipython3",
   "version": "3.13.5"
  }
 },
 "nbformat": 4,
 "nbformat_minor": 5
}
